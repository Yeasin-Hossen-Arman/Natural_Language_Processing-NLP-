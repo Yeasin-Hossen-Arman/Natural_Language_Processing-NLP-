{
 "cells": [
  {
   "cell_type": "code",
   "execution_count": 8,
   "id": "0055d6b1-f29b-4708-a4cb-b2a4bfe3529e",
   "metadata": {},
   "outputs": [],
   "source": [
    "import numpy as np\n",
    "import pandas as pd\n",
    "import seaborn as sns\n",
    "import spacy \n",
    "import nltk "
   ]
  },
  {
   "cell_type": "code",
   "execution_count": 12,
   "id": "b5c6aa4d-391e-42d6-a489-b5418c5f9353",
   "metadata": {},
   "outputs": [],
   "source": [
    "nlp_lg = spacy.load(\"en_core_web_lg\")\n",
    "nlp_sm = spacy.load(\"en_core_web_sm\")"
   ]
  },
  {
   "cell_type": "markdown",
   "id": "a589072a-dfc7-48d8-9c7a-8100712c4d92",
   "metadata": {},
   "source": [
    "# about all token explaination"
   ]
  },
  {
   "cell_type": "code",
   "execution_count": 14,
   "id": "c1b2cdd2-0e9d-4d2e-b32c-1023c554e400",
   "metadata": {},
   "outputs": [],
   "source": [
    "doc = nlp_lg(\"Our country was a part of Pakistan before 1971. Then we freed our country and achieved victory after nine month's liberation war. 3 million people sacrificed their lives in the liberation war in 1971. Our independence day is 26th March and Victory day is 16th December. The national language of our country is Bangla.\")"
   ]
  },
  {
   "cell_type": "code",
   "execution_count": 21,
   "id": "1a1f3ce0-f962-4704-8646-242c8fb05695",
   "metadata": {},
   "outputs": [
    {
     "name": "stdout",
     "output_type": "stream",
     "text": [
      "Our  -----  our  |  PRON  |  pronoun  |  PRP$  |  pronoun, possessive\n",
      "country  -----  country  |  NOUN  |  noun  |  NN  |  noun, singular or mass\n",
      "was  -----  be  |  AUX  |  auxiliary  |  VBD  |  verb, past tense\n",
      "a  -----  a  |  DET  |  determiner  |  DT  |  determiner\n",
      "part  -----  part  |  NOUN  |  noun  |  NN  |  noun, singular or mass\n",
      "of  -----  of  |  ADP  |  adposition  |  IN  |  conjunction, subordinating or preposition\n",
      "Pakistan  -----  Pakistan  |  PROPN  |  proper noun  |  NNP  |  noun, proper singular\n",
      "before  -----  before  |  ADP  |  adposition  |  IN  |  conjunction, subordinating or preposition\n",
      "1971  -----  1971  |  NUM  |  numeral  |  CD  |  cardinal number\n",
      ".  -----  .  |  PUNCT  |  punctuation  |  .  |  punctuation mark, sentence closer\n",
      "Then  -----  then  |  ADV  |  adverb  |  RB  |  adverb\n",
      "we  -----  we  |  PRON  |  pronoun  |  PRP  |  pronoun, personal\n",
      "freed  -----  free  |  VERB  |  verb  |  VBD  |  verb, past tense\n",
      "our  -----  our  |  PRON  |  pronoun  |  PRP$  |  pronoun, possessive\n",
      "country  -----  country  |  NOUN  |  noun  |  NN  |  noun, singular or mass\n",
      "and  -----  and  |  CCONJ  |  coordinating conjunction  |  CC  |  conjunction, coordinating\n",
      "achieved  -----  achieve  |  VERB  |  verb  |  VBD  |  verb, past tense\n",
      "victory  -----  victory  |  NOUN  |  noun  |  NN  |  noun, singular or mass\n",
      "after  -----  after  |  ADP  |  adposition  |  IN  |  conjunction, subordinating or preposition\n",
      "nine  -----  nine  |  NUM  |  numeral  |  CD  |  cardinal number\n",
      "month  -----  month  |  NOUN  |  noun  |  NN  |  noun, singular or mass\n",
      "'s  -----  's  |  PART  |  particle  |  POS  |  possessive ending\n",
      "liberation  -----  liberation  |  NOUN  |  noun  |  NN  |  noun, singular or mass\n",
      "war  -----  war  |  NOUN  |  noun  |  NN  |  noun, singular or mass\n",
      ".  -----  .  |  PUNCT  |  punctuation  |  .  |  punctuation mark, sentence closer\n",
      "3  -----  3  |  NUM  |  numeral  |  CD  |  cardinal number\n",
      "million  -----  million  |  NUM  |  numeral  |  CD  |  cardinal number\n",
      "people  -----  people  |  NOUN  |  noun  |  NNS  |  noun, plural\n",
      "sacrificed  -----  sacrifice  |  VERB  |  verb  |  VBD  |  verb, past tense\n",
      "their  -----  their  |  PRON  |  pronoun  |  PRP$  |  pronoun, possessive\n",
      "lives  -----  life  |  NOUN  |  noun  |  NNS  |  noun, plural\n",
      "in  -----  in  |  ADP  |  adposition  |  IN  |  conjunction, subordinating or preposition\n",
      "the  -----  the  |  DET  |  determiner  |  DT  |  determiner\n",
      "liberation  -----  liberation  |  NOUN  |  noun  |  NN  |  noun, singular or mass\n",
      "war  -----  war  |  NOUN  |  noun  |  NN  |  noun, singular or mass\n",
      "in  -----  in  |  ADP  |  adposition  |  IN  |  conjunction, subordinating or preposition\n",
      "1971  -----  1971  |  NUM  |  numeral  |  CD  |  cardinal number\n",
      ".  -----  .  |  PUNCT  |  punctuation  |  .  |  punctuation mark, sentence closer\n",
      "Our  -----  our  |  PRON  |  pronoun  |  PRP$  |  pronoun, possessive\n",
      "independence  -----  independence  |  NOUN  |  noun  |  NN  |  noun, singular or mass\n",
      "day  -----  day  |  NOUN  |  noun  |  NN  |  noun, singular or mass\n",
      "is  -----  be  |  AUX  |  auxiliary  |  VBZ  |  verb, 3rd person singular present\n",
      "26th  -----  26th  |  ADJ  |  adjective  |  JJ  |  adjective (English), other noun-modifier (Chinese)\n",
      "March  -----  March  |  PROPN  |  proper noun  |  NNP  |  noun, proper singular\n",
      "and  -----  and  |  CCONJ  |  coordinating conjunction  |  CC  |  conjunction, coordinating\n",
      "Victory  -----  Victory  |  PROPN  |  proper noun  |  NNP  |  noun, proper singular\n",
      "day  -----  day  |  NOUN  |  noun  |  NN  |  noun, singular or mass\n",
      "is  -----  be  |  AUX  |  auxiliary  |  VBZ  |  verb, 3rd person singular present\n",
      "16th  -----  16th  |  ADJ  |  adjective  |  JJ  |  adjective (English), other noun-modifier (Chinese)\n",
      "December  -----  December  |  PROPN  |  proper noun  |  NNP  |  noun, proper singular\n",
      ".  -----  .  |  PUNCT  |  punctuation  |  .  |  punctuation mark, sentence closer\n",
      "The  -----  the  |  DET  |  determiner  |  DT  |  determiner\n",
      "national  -----  national  |  ADJ  |  adjective  |  JJ  |  adjective (English), other noun-modifier (Chinese)\n",
      "language  -----  language  |  NOUN  |  noun  |  NN  |  noun, singular or mass\n",
      "of  -----  of  |  ADP  |  adposition  |  IN  |  conjunction, subordinating or preposition\n",
      "our  -----  our  |  PRON  |  pronoun  |  PRP$  |  pronoun, possessive\n",
      "country  -----  country  |  NOUN  |  noun  |  NN  |  noun, singular or mass\n",
      "is  -----  be  |  AUX  |  auxiliary  |  VBZ  |  verb, 3rd person singular present\n",
      "Bangla  -----  Bangla  |  PROPN  |  proper noun  |  NNP  |  noun, proper singular\n",
      ".  -----  .  |  PUNCT  |  punctuation  |  .  |  punctuation mark, sentence closer\n"
     ]
    }
   ],
   "source": [
    "for token in doc:\n",
    "    print(token.text, \" ----- \", token.lemma_, \" | \", token.pos_,\" | \" ,spacy.explain(token.pos_),\" | \", token.tag_,\" | \", spacy.explain(token.tag_))"
   ]
  },
  {
   "cell_type": "code",
   "execution_count": 22,
   "id": "c6c0b871-c6e1-4092-82b7-0a9844dab28c",
   "metadata": {},
   "outputs": [],
   "source": [
    "from nltk.stem import PorterStemmer"
   ]
  },
  {
   "cell_type": "code",
   "execution_count": 23,
   "id": "0a29759b-7ca1-4b59-9c83-1654fc8bb7a2",
   "metadata": {},
   "outputs": [],
   "source": [
    "stemmer = PorterStemmer()"
   ]
  },
  {
   "cell_type": "code",
   "execution_count": 25,
   "id": "90752247-fc7e-4eaf-b278-7accad8d08f4",
   "metadata": {},
   "outputs": [
    {
     "name": "stdout",
     "output_type": "stream",
     "text": [
      "Our  -------- our  ----- our\n",
      "country  -------- countri  ----- country\n",
      "was  -------- wa  ----- be\n",
      "a  -------- a  ----- a\n",
      "part  -------- part  ----- part\n",
      "of  -------- of  ----- of\n",
      "Pakistan  -------- pakistan  ----- Pakistan\n",
      "before  -------- befor  ----- before\n",
      "1971  -------- 1971  ----- 1971\n",
      ".  -------- .  ----- .\n",
      "Then  -------- then  ----- then\n",
      "we  -------- we  ----- we\n",
      "freed  -------- freed  ----- free\n",
      "our  -------- our  ----- our\n",
      "country  -------- countri  ----- country\n",
      "and  -------- and  ----- and\n",
      "achieved  -------- achiev  ----- achieve\n",
      "victory  -------- victori  ----- victory\n",
      "after  -------- after  ----- after\n",
      "nine  -------- nine  ----- nine\n",
      "month  -------- month  ----- month\n",
      "'s  -------- 's  ----- 's\n",
      "liberation  -------- liber  ----- liberation\n",
      "war  -------- war  ----- war\n",
      ".  -------- .  ----- .\n",
      "3  -------- 3  ----- 3\n",
      "million  -------- million  ----- million\n",
      "people  -------- peopl  ----- people\n",
      "sacrificed  -------- sacrif  ----- sacrifice\n",
      "their  -------- their  ----- their\n",
      "lives  -------- live  ----- life\n",
      "in  -------- in  ----- in\n",
      "the  -------- the  ----- the\n",
      "liberation  -------- liber  ----- liberation\n",
      "war  -------- war  ----- war\n",
      "in  -------- in  ----- in\n",
      "1971  -------- 1971  ----- 1971\n",
      ".  -------- .  ----- .\n",
      "Our  -------- our  ----- our\n",
      "independence  -------- independ  ----- independence\n",
      "day  -------- day  ----- day\n",
      "is  -------- is  ----- be\n",
      "26th  -------- 26th  ----- 26th\n",
      "March  -------- march  ----- March\n",
      "and  -------- and  ----- and\n",
      "Victory  -------- victori  ----- Victory\n",
      "day  -------- day  ----- day\n",
      "is  -------- is  ----- be\n",
      "16th  -------- 16th  ----- 16th\n",
      "December  -------- decemb  ----- December\n",
      ".  -------- .  ----- .\n",
      "The  -------- the  ----- the\n",
      "national  -------- nation  ----- national\n",
      "language  -------- languag  ----- language\n",
      "of  -------- of  ----- of\n",
      "our  -------- our  ----- our\n",
      "country  -------- countri  ----- country\n",
      "is  -------- is  ----- be\n",
      "Bangla  -------- bangla  ----- Bangla\n",
      ".  -------- .  ----- .\n"
     ]
    }
   ],
   "source": [
    "for token in doc:\n",
    "    print(token.text , \" --------\", stemmer.stem(token.text),\" -----\", token.lemma_)"
   ]
  },
  {
   "cell_type": "markdown",
   "id": "761627a0-db5b-495f-b68f-98ab902ab69d",
   "metadata": {},
   "source": [
    "# stop words"
   ]
  },
  {
   "cell_type": "code",
   "execution_count": 30,
   "id": "3b2f81c2-8296-4e98-b4e9-a854e951edd7",
   "metadata": {},
   "outputs": [
    {
     "name": "stderr",
     "output_type": "stream",
     "text": [
      "[nltk_data] Downloading package stopwords to\n",
      "[nltk_data]     C:\\Users\\User\\AppData\\Roaming\\nltk_data...\n",
      "[nltk_data]   Package stopwords is already up-to-date!\n"
     ]
    },
    {
     "data": {
      "text/plain": [
       "True"
      ]
     },
     "execution_count": 30,
     "metadata": {},
     "output_type": "execute_result"
    }
   ],
   "source": [
    "from nltk.corpus import stopwords\n",
    "nltk.download('stopwords')"
   ]
  },
  {
   "cell_type": "code",
   "execution_count": 40,
   "id": "458eea28-8ccf-4b31-8d72-4d95f05610d6",
   "metadata": {},
   "outputs": [
    {
     "name": "stdout",
     "output_type": "stream",
     "text": [
      "['i', 'me', 'my', 'myself', 'we', 'our', 'ours', 'ourselves', 'you', \"you're\", \"you've\", \"you'll\", \"you'd\", 'your', 'yours', 'yourself', 'yourselves', 'he', 'him', 'his', 'himself', 'she', \"she's\", 'her', 'hers', 'herself', 'it', \"it's\", 'its', 'itself', 'they', 'them', 'their', 'theirs', 'themselves', 'what', 'which', 'who', 'whom', 'this', 'that', \"that'll\", 'these', 'those', 'am', 'is', 'are', 'was', 'were', 'be', 'been', 'being', 'have', 'has', 'had', 'having', 'do', 'does', 'did', 'doing', 'a', 'an', 'the', 'and', 'but', 'if', 'or', 'because', 'as', 'until', 'while', 'of', 'at', 'by', 'for', 'with', 'about', 'against', 'between', 'into', 'through', 'during', 'before', 'after', 'above', 'below', 'to', 'from', 'up', 'down', 'in', 'out', 'on', 'off', 'over', 'under', 'again', 'further', 'then', 'once', 'here', 'there', 'when', 'where', 'why', 'how', 'all', 'any', 'both', 'each', 'few', 'more', 'most', 'other', 'some', 'such', 'no', 'nor', 'not', 'only', 'own', 'same', 'so', 'than', 'too', 'very', 's', 't', 'can', 'will', 'just', 'don', \"don't\", 'should', \"should've\", 'now', 'd', 'll', 'm', 'o', 're', 've', 'y', 'ain', 'aren', \"aren't\", 'couldn', \"couldn't\", 'didn', \"didn't\", 'doesn', \"doesn't\", 'hadn', \"hadn't\", 'hasn', \"hasn't\", 'haven', \"haven't\", 'isn', \"isn't\", 'ma', 'mightn', \"mightn't\", 'mustn', \"mustn't\", 'needn', \"needn't\", 'shan', \"shan't\", 'shouldn', \"shouldn't\", 'wasn', \"wasn't\", 'weren', \"weren't\", 'won', \"won't\", 'wouldn', \"wouldn't\"]\n"
     ]
    }
   ],
   "source": [
    "print(stopwords.words('english'))"
   ]
  },
  {
   "cell_type": "code",
   "execution_count": 54,
   "id": "38644449-df84-43b1-b26b-293633ca7d12",
   "metadata": {},
   "outputs": [],
   "source": [
    "stop_words = set(stopwords.words('english'))"
   ]
  },
  {
   "cell_type": "code",
   "execution_count": 65,
   "id": "1777b5b3-87d2-4ad1-b5b6-0fd6e40b916c",
   "metadata": {},
   "outputs": [],
   "source": [
    "corpus_lower = \"\"\" \"\"\""
   ]
  },
  {
   "cell_type": "code",
   "execution_count": 66,
   "id": "a608cb27-a428-48c5-a663-53f2e91c1777",
   "metadata": {},
   "outputs": [
    {
     "data": {
      "text/plain": [
       "\"Our country was a part of Pakistan before 1971. Then we freed our country and achieved victory after nine month's liberation war. 3 million people sacrificed their lives in the liberation war in 1971. Our independence day is 26th March and Victory day is 16th December. The national language of our country is Bangla \""
      ]
     },
     "execution_count": 66,
     "metadata": {},
     "output_type": "execute_result"
    }
   ],
   "source": [
    "corpus = \"\"\"Our country was a part of Pakistan before 1971. Then we freed our country and achieved victory after nine month's liberation war. 3 million people sacrificed their lives in the liberation war in 1971. Our independence day is 26th March and Victory day is 16th December. The national language of our country is Bangla \"\"\"\n",
    "corpus"
   ]
  },
  {
   "cell_type": "code",
   "execution_count": 68,
   "id": "a4cf041a-c834-4ef3-945c-3513dd253bdc",
   "metadata": {},
   "outputs": [],
   "source": [
    "corpus_lower = [w for w in corpus if not w.lower() in stop_words ]"
   ]
  },
  {
   "cell_type": "code",
   "execution_count": null,
   "id": "925dc3c3-19ba-4b9e-add8-7b10624cd7a4",
   "metadata": {},
   "outputs": [],
   "source": []
  },
  {
   "cell_type": "code",
   "execution_count": null,
   "id": "13dabc63-13d5-4c3a-b76a-3b3803a27587",
   "metadata": {},
   "outputs": [],
   "source": []
  },
  {
   "cell_type": "code",
   "execution_count": null,
   "id": "8389f589-ef17-4d48-aac0-4401cfd16ca3",
   "metadata": {},
   "outputs": [],
   "source": []
  },
  {
   "cell_type": "code",
   "execution_count": null,
   "id": "4d8ae307-0638-4c3a-a4f8-b6ebf5f05263",
   "metadata": {},
   "outputs": [],
   "source": []
  }
 ],
 "metadata": {
  "kernelspec": {
   "display_name": "Python 3 (ipykernel)",
   "language": "python",
   "name": "python3"
  },
  "language_info": {
   "codemirror_mode": {
    "name": "ipython",
    "version": 3
   },
   "file_extension": ".py",
   "mimetype": "text/x-python",
   "name": "python",
   "nbconvert_exporter": "python",
   "pygments_lexer": "ipython3",
   "version": "3.12.2"
  },
  "widgets": {
   "application/vnd.jupyter.widget-state+json": {
    "state": {},
    "version_major": 2,
    "version_minor": 0
   }
  }
 },
 "nbformat": 4,
 "nbformat_minor": 5
}
