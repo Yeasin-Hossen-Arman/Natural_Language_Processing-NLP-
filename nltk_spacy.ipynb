{
 "cells": [
  {
   "cell_type": "code",
   "execution_count": 2,
   "id": "56df3f8e-a025-47ba-b8b4-c91919303142",
   "metadata": {},
   "outputs": [],
   "source": [
    "import nltk\n",
    "import spacy\n",
    "from nltk.stem.porter import *\n"
   ]
  },
  {
   "cell_type": "code",
   "execution_count": 3,
   "id": "2509c0ab-589e-4dfb-aae9-0747d0c524b4",
   "metadata": {},
   "outputs": [],
   "source": [
    "from nltk.stem import PorterStemmer\n"
   ]
  },
  {
   "cell_type": "code",
   "execution_count": 4,
   "id": "77ce0ccf-ce09-4260-bf5c-baa1cf9c89ad",
   "metadata": {},
   "outputs": [],
   "source": [
    "stemmer = PorterStemmer()"
   ]
  },
  {
   "cell_type": "code",
   "execution_count": 5,
   "id": "d2433d70-a6ab-4e2d-966c-45001fe09fea",
   "metadata": {},
   "outputs": [
    {
     "name": "stdout",
     "output_type": "stream",
     "text": [
      "eatting  |  eat\n",
      "ate  |  ate\n",
      "gone  |  gone\n",
      "do  |  do\n",
      "doing  |  do\n",
      "ability  |  abil\n",
      "meeting  |  meet\n"
     ]
    }
   ],
   "source": [
    "words = [\"eatting\",\"ate\",\"gone\",\"do\",\"doing\",\"ability\",\"meeting\"]\n",
    "for word in words:\n",
    "    print(word,\" | \", stemmer.stem(word))"
   ]
  },
  {
   "cell_type": "code",
   "execution_count": 12,
   "id": "3f3661be-2cf3-469d-912e-52e27891f969",
   "metadata": {},
   "outputs": [],
   "source": [
    "nlp = spacy.load(\"en_core_web_sm\")"
   ]
  },
  {
   "cell_type": "code",
   "execution_count": 13,
   "id": "682c0a58-7f1e-464d-b406-26e40c550f19",
   "metadata": {},
   "outputs": [],
   "source": [
    "text = \"What communication skills are important?I believe verbal communication skills are the most significant and must be honed in every individual. The communication in everyday life revolved mostly around verbal skills rather than written communication or non-verbal communication.Good interpersonal skill is also a top requirement in the jobs these days.\""
   ]
  },
  {
   "cell_type": "code",
   "execution_count": 18,
   "id": "dc04d9e9-b691-443c-9784-0a771a302406",
   "metadata": {},
   "outputs": [
    {
     "name": "stdout",
     "output_type": "stream",
     "text": [
      "What  |  PRON  |  pronoun  |  WP  |  wh-pronoun, personal\n",
      "communication  |  NOUN  |  noun  |  NN  |  noun, singular or mass\n",
      "skills  |  NOUN  |  noun  |  NNS  |  noun, plural\n",
      "are  |  AUX  |  auxiliary  |  VBP  |  verb, non-3rd person singular present\n",
      "important?I  |  ADJ  |  adjective  |  JJ  |  adjective (English), other noun-modifier (Chinese)\n",
      "believe  |  VERB  |  verb  |  VBP  |  verb, non-3rd person singular present\n",
      "verbal  |  ADJ  |  adjective  |  JJ  |  adjective (English), other noun-modifier (Chinese)\n",
      "communication  |  NOUN  |  noun  |  NN  |  noun, singular or mass\n",
      "skills  |  NOUN  |  noun  |  NNS  |  noun, plural\n",
      "are  |  AUX  |  auxiliary  |  VBP  |  verb, non-3rd person singular present\n",
      "the  |  DET  |  determiner  |  DT  |  determiner\n",
      "most  |  ADV  |  adverb  |  RBS  |  adverb, superlative\n",
      "significant  |  ADJ  |  adjective  |  JJ  |  adjective (English), other noun-modifier (Chinese)\n",
      "and  |  CCONJ  |  coordinating conjunction  |  CC  |  conjunction, coordinating\n",
      "must  |  AUX  |  auxiliary  |  MD  |  verb, modal auxiliary\n",
      "be  |  AUX  |  auxiliary  |  VB  |  verb, base form\n",
      "honed  |  VERB  |  verb  |  VBN  |  verb, past participle\n",
      "in  |  ADP  |  adposition  |  IN  |  conjunction, subordinating or preposition\n",
      "every  |  DET  |  determiner  |  DT  |  determiner\n",
      "individual  |  NOUN  |  noun  |  NN  |  noun, singular or mass\n",
      ".  |  PUNCT  |  punctuation  |  .  |  punctuation mark, sentence closer\n",
      "The  |  DET  |  determiner  |  DT  |  determiner\n",
      "communication  |  NOUN  |  noun  |  NN  |  noun, singular or mass\n",
      "in  |  ADP  |  adposition  |  IN  |  conjunction, subordinating or preposition\n",
      "everyday  |  ADJ  |  adjective  |  JJ  |  adjective (English), other noun-modifier (Chinese)\n",
      "life  |  NOUN  |  noun  |  NN  |  noun, singular or mass\n",
      "revolved  |  VERB  |  verb  |  VBD  |  verb, past tense\n",
      "mostly  |  ADV  |  adverb  |  RB  |  adverb\n",
      "around  |  ADP  |  adposition  |  IN  |  conjunction, subordinating or preposition\n",
      "verbal  |  ADJ  |  adjective  |  JJ  |  adjective (English), other noun-modifier (Chinese)\n",
      "skills  |  NOUN  |  noun  |  NNS  |  noun, plural\n",
      "rather  |  ADV  |  adverb  |  RB  |  adverb\n",
      "than  |  ADP  |  adposition  |  IN  |  conjunction, subordinating or preposition\n",
      "written  |  VERB  |  verb  |  VBN  |  verb, past participle\n",
      "communication  |  NOUN  |  noun  |  NN  |  noun, singular or mass\n",
      "or  |  CCONJ  |  coordinating conjunction  |  CC  |  conjunction, coordinating\n",
      "non  |  ADJ  |  adjective  |  JJ  |  adjective (English), other noun-modifier (Chinese)\n",
      "-  |  ADJ  |  adjective  |  JJ  |  adjective (English), other noun-modifier (Chinese)\n",
      "verbal  |  ADJ  |  adjective  |  JJ  |  adjective (English), other noun-modifier (Chinese)\n",
      "communication  |  NOUN  |  noun  |  NN  |  noun, singular or mass\n",
      ".  |  PUNCT  |  punctuation  |  .  |  punctuation mark, sentence closer\n",
      "Good  |  ADJ  |  adjective  |  JJ  |  adjective (English), other noun-modifier (Chinese)\n",
      "interpersonal  |  ADJ  |  adjective  |  JJ  |  adjective (English), other noun-modifier (Chinese)\n",
      "skill  |  NOUN  |  noun  |  NN  |  noun, singular or mass\n",
      "is  |  AUX  |  auxiliary  |  VBZ  |  verb, 3rd person singular present\n",
      "also  |  ADV  |  adverb  |  RB  |  adverb\n",
      "a  |  DET  |  determiner  |  DT  |  determiner\n",
      "top  |  ADJ  |  adjective  |  JJ  |  adjective (English), other noun-modifier (Chinese)\n",
      "requirement  |  NOUN  |  noun  |  NN  |  noun, singular or mass\n",
      "in  |  ADP  |  adposition  |  IN  |  conjunction, subordinating or preposition\n",
      "the  |  DET  |  determiner  |  DT  |  determiner\n",
      "jobs  |  NOUN  |  noun  |  NNS  |  noun, plural\n",
      "these  |  DET  |  determiner  |  DT  |  determiner\n",
      "days  |  NOUN  |  noun  |  NNS  |  noun, plural\n",
      ".  |  PUNCT  |  punctuation  |  .  |  punctuation mark, sentence closer\n"
     ]
    }
   ],
   "source": [
    "doc = nlp(text)\n",
    "for token in doc:\n",
    "    print(token,\" | \", token.pos_,\" | \", spacy.explain(token.pos_),\" | \", token.tag_,\" | \", spacy.explain(token.tag_))"
   ]
  },
  {
   "cell_type": "code",
   "execution_count": 22,
   "id": "201b77c9-65e9-47b9-9861-0080fd289690",
   "metadata": {},
   "outputs": [
    {
     "name": "stdout",
     "output_type": "stream",
     "text": [
      "What\n",
      "are\n",
      "are\n",
      "must\n",
      "be\n",
      "is\n"
     ]
    }
   ],
   "source": [
    "for token in doc:\n",
    "    if token.pos_ in ['PRON','AUX']:\n",
    "        print(token)"
   ]
  },
  {
   "cell_type": "code",
   "execution_count": 26,
   "id": "5016a2a7-ed52-4b2a-9cd3-f8eccbc71e84",
   "metadata": {},
   "outputs": [
    {
     "data": {
      "text/plain": [
       "{95: 1, 92: 14, 87: 5, 84: 11, 100: 4, 90: 6, 86: 4, 89: 2, 85: 5, 97: 3}"
      ]
     },
     "execution_count": 26,
     "metadata": {},
     "output_type": "execute_result"
    }
   ],
   "source": [
    "count = doc.count_by(spacy.attrs.POS)\n",
    "count"
   ]
  },
  {
   "cell_type": "code",
   "execution_count": 27,
   "id": "0b6a6001-f55d-45f7-a149-15b615706e25",
   "metadata": {},
   "outputs": [
    {
     "data": {
      "text/plain": [
       "['tok2vec', 'tagger', 'parser', 'attribute_ruler', 'lemmatizer', 'ner']"
      ]
     },
     "execution_count": 27,
     "metadata": {},
     "output_type": "execute_result"
    }
   ],
   "source": [
    "nlp.pipe_names"
   ]
  },
  {
   "cell_type": "code",
   "execution_count": 30,
   "id": "6b186f24-a1dc-44e5-a73e-754d505d2dc5",
   "metadata": {},
   "outputs": [
    {
     "name": "stdout",
     "output_type": "stream",
     "text": [
      "Tasla Inc  |  ORG  |  Companies, agencies, institutions, etc.\n",
      "2 million $  |  MONEY  |  Monetary values, including unit\n"
     ]
    }
   ],
   "source": [
    "doc = nlp(\"Tasla Inc contribute 2 million $ for bangladesh\")\n",
    "for ent in doc.ents:\n",
    "    print(ent.text, \" | \",ent.label_,\" | \",spacy.explain(ent.label_))"
   ]
  },
  {
   "cell_type": "code",
   "execution_count": 31,
   "id": "0911150c-5b31-4966-bac1-3813da79b306",
   "metadata": {},
   "outputs": [],
   "source": [
    "from spacy import displacy"
   ]
  },
  {
   "cell_type": "code",
   "execution_count": 35,
   "id": "03527d02-9e88-4f24-9a0c-63c92a82a222",
   "metadata": {},
   "outputs": [
    {
     "data": {
      "text/html": [
       "<span class=\"tex2jax_ignore\"><div class=\"entities\" style=\"line-height: 2.5; direction: ltr\">\n",
       "<mark class=\"entity\" style=\"background: #7aecec; padding: 0.45em 0.6em; margin: 0 0.25em; line-height: 1; border-radius: 0.35em;\">\n",
       "    Tasla Inc\n",
       "    <span style=\"font-size: 0.8em; font-weight: bold; line-height: 1; border-radius: 0.35em; vertical-align: middle; margin-left: 0.5rem\">ORG</span>\n",
       "</mark>\n",
       " contribute \n",
       "<mark class=\"entity\" style=\"background: #e4e7d2; padding: 0.45em 0.6em; margin: 0 0.25em; line-height: 1; border-radius: 0.35em;\">\n",
       "    2 million $\n",
       "    <span style=\"font-size: 0.8em; font-weight: bold; line-height: 1; border-radius: 0.35em; vertical-align: middle; margin-left: 0.5rem\">MONEY</span>\n",
       "</mark>\n",
       " for bangladesh</div></span>"
      ],
      "text/plain": [
       "<IPython.core.display.HTML object>"
      ]
     },
     "metadata": {},
     "output_type": "display_data"
    }
   ],
   "source": [
    "displacy.render(doc, style =\"ent\")"
   ]
  },
  {
   "cell_type": "code",
   "execution_count": null,
   "id": "ddbd7ce3-9973-4fec-beab-29250626446c",
   "metadata": {},
   "outputs": [],
   "source": []
  }
 ],
 "metadata": {
  "kernelspec": {
   "display_name": "Python 3 (ipykernel)",
   "language": "python",
   "name": "python3"
  },
  "language_info": {
   "codemirror_mode": {
    "name": "ipython",
    "version": 3
   },
   "file_extension": ".py",
   "mimetype": "text/x-python",
   "name": "python",
   "nbconvert_exporter": "python",
   "pygments_lexer": "ipython3",
   "version": "3.12.2"
  },
  "widgets": {
   "application/vnd.jupyter.widget-state+json": {
    "state": {},
    "version_major": 2,
    "version_minor": 0
   }
  }
 },
 "nbformat": 4,
 "nbformat_minor": 5
}
